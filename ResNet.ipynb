{
  "nbformat": 4,
  "nbformat_minor": 0,
  "metadata": {
    "colab": {
      "provenance": []
    },
    "kernelspec": {
      "name": "python3",
      "display_name": "Python 3"
    },
    "language_info": {
      "name": "python"
    }
  },
  "cells": [
    {
      "cell_type": "code",
      "execution_count": null,
      "metadata": {
        "id": "ZZOBWnf3JKCD"
      },
      "outputs": [],
      "source": [
        "import tensorflow as tf\n",
        "from tensorflow import keras\n",
        "\n"
      ]
    },
    {
      "cell_type": "code",
      "source": [
        "# Load the Fashion MNIST dataset\n",
        "(x_train, y_train), (x_test, y_test) = keras.datasets.fashion_mnist.load_data()\n",
        "\n"
      ],
      "metadata": {
        "id": "tM7jOUiPJRNI"
      },
      "execution_count": null,
      "outputs": []
    },
    {
      "cell_type": "code",
      "source": [
        "# Preprocess the data\n",
        "x_train = x_train.reshape(-1, 28, 28, 1).astype('float32') / 255.0\n",
        "x_test = x_test.reshape(-1, 28, 28, 1).astype('float32') / 255.0"
      ],
      "metadata": {
        "id": "IcZAUPSVJVmU"
      },
      "execution_count": null,
      "outputs": []
    },
    {
      "cell_type": "code",
      "source": [
        "# Convert the labels to one-hot encoding\n",
        "y_train = keras.utils.to_categorical(y_train, num_classes=10)\n",
        "y_test = keras.utils.to_categorical(y_test, num_classes=10)\n",
        "\n"
      ],
      "metadata": {
        "id": "Ug1ut1glJaxL"
      },
      "execution_count": null,
      "outputs": []
    },
    {
      "cell_type": "code",
      "source": [
        "# Define the Residual Block\n",
        "def residual_block(inputs, filters):\n",
        "    x = keras.layers.Conv2D(filters, 3, padding='same', activation='relu')(inputs)\n",
        "    x = keras.layers.BatchNormalization()(x)\n",
        "    x = keras.layers.Conv2D(filters, 3, padding='same', activation=None)(x)\n",
        "    x = keras.layers.BatchNormalization()(x)\n",
        "\n",
        "    # Skip connection\n",
        "    shortcut = keras.layers.Conv2D(filters, 1, padding='same')(inputs)\n",
        "    x = keras.layers.add([x, shortcut])\n",
        "    x = keras.layers.Activation('relu')(x)\n",
        "    return x\n",
        "\n"
      ],
      "metadata": {
        "id": "Q8_SW3BgJeV2"
      },
      "execution_count": null,
      "outputs": []
    },
    {
      "cell_type": "code",
      "source": [
        "# Build the ResNet model\n",
        "def create_resnet_model(input_shape, num_classes):\n",
        "    inputs = keras.layers.Input(shape=input_shape)\n",
        "\n",
        "    # Initial convolution layer\n",
        "    x = keras.layers.Conv2D(32, 3, padding='same', activation='relu')(inputs)\n",
        "\n",
        "    # Residual blocks\n",
        "    x = residual_block(x, 32)\n",
        "    x = residual_block(x, 32)\n",
        "\n",
        "    x = keras.layers.MaxPooling2D(pool_size=2)(x)\n",
        "\n",
        "    x = residual_block(x, 64)\n",
        "    x = residual_block(x, 64)\n",
        "\n",
        "    x = keras.layers.GlobalAveragePooling2D()(x)\n",
        "\n",
        "    # Output layer\n",
        "    outputs = keras.layers.Dense(num_classes, activation='softmax')(x)\n",
        "\n",
        "    model = keras.models.Model(inputs=inputs, outputs=outputs)\n",
        "    return model\n",
        "\n"
      ],
      "metadata": {
        "id": "6LdxnJeSJjMD"
      },
      "execution_count": null,
      "outputs": []
    },
    {
      "cell_type": "code",
      "source": [
        "# Create the ResNet model\n",
        "input_shape = (28, 28, 1)\n",
        "num_classes = 10\n",
        "model = create_resnet_model(input_shape, num_classes)\n",
        "\n"
      ],
      "metadata": {
        "id": "2cbg303cJm1I"
      },
      "execution_count": null,
      "outputs": []
    },
    {
      "cell_type": "code",
      "source": [
        "# Compile the model\n",
        "model.compile(loss='categorical_crossentropy',\n",
        "              optimizer='adam',\n",
        "              metrics=['accuracy'])\n",
        "\n"
      ],
      "metadata": {
        "id": "dORKd4nyJpdF"
      },
      "execution_count": null,
      "outputs": []
    },
    {
      "cell_type": "code",
      "source": [
        "# Print model summary\n",
        "model.summary()\n",
        "\n",
        "\n"
      ],
      "metadata": {
        "id": "aKgTJm6cJrV4"
      },
      "execution_count": null,
      "outputs": []
    },
    {
      "cell_type": "code",
      "source": [
        "# Train the model\n",
        "model.fit(x_train, y_train, batch_size=64, epochs=10, validation_split=0.1)\n",
        "\n"
      ],
      "metadata": {
        "id": "zefXELrwJt0m"
      },
      "execution_count": null,
      "outputs": []
    },
    {
      "cell_type": "code",
      "source": [
        "# Evaluate the model on the test set\n",
        "test_loss, test_acc = model.evaluate(x_test, y_test)\n",
        "print(\"Test accuracy:\", test_acc)"
      ],
      "metadata": {
        "id": "PVQeoicTJvel"
      },
      "execution_count": null,
      "outputs": []
    }
  ]
}